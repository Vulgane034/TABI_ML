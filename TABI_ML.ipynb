{
 "cells": [
  {
   "cell_type": "code",
   "execution_count": 21,
   "id": "9714e086-3657-4ea2-82d4-5f925cc0ce07",
   "metadata": {},
   "outputs": [],
   "source": [
    "#LIBRAIRIE\n",
    "import tensorflow as tf\n",
    "from tensorflow.keras.models import Model\n",
    "from tensorflow.keras.layers import Input,Dense,Concatenate\n",
    "from scipy.stats import shapiro, linregress, pearsonr, spearmanr\n",
    "from dcor import distance_correlation\n",
    "from sklearn.linear_model import LinearRegression\n",
    "import numpy as np\n",
    "import matplotlib.pyplot as plt\n",
    "import pandas as pd\n"
   ]
  },
  {
   "cell_type": "code",
   "execution_count": 9,
   "id": "132684d8-e9bd-459c-87ba-62d2abe769be",
   "metadata": {},
   "outputs": [],
   "source": [
    "# test prealable\n",
    "def calculate_scores(X, Y):\n",
    "    # Score de linéarité (R²)\n",
    "    model = LinearRegression()\n",
    "    model.fit(X.reshape(-1, 1), Y)\n",
    "    S_lin = model.score(X.reshape(-1, 1), Y)\n",
    "    \n",
    "    # Score de normalité (Shapiro-Wilk)\n",
    "    _, p_X = shapiro(X)\n",
    "    _, p_Y = shapiro(Y)\n",
    "    S_norm = (p_X + p_Y) / 2\n",
    "    \n",
    "    # Score d'outliers (IQR)\n",
    "    Q1 = np.percentile(Y, 25)\n",
    "    Q3 = np.percentile(Y, 75)\n",
    "    IQR = Q3 - Q1\n",
    "    outliers = (Y < (Q1 - 1.5 * IQR)) | (Y > (Q3 + 1.5 * IQR))\n",
    "    S_out = np.sum(outliers) / len(Y)\n",
    "    \n",
    "    return np.array([S_lin, S_norm, S_out])\n"
   ]
  },
  {
   "cell_type": "code",
   "execution_count": 12,
   "id": "994a3e1a-ac04-441b-959b-41b2f2fb3a03",
   "metadata": {},
   "outputs": [],
   "source": [
    "# Entrée : 3 scores (S_lin, S_norm, S_out)\n",
    "input_scores = Input(shape=(3,))\n",
    "\n",
    "# Couches cachées\n",
    "hidden = Dense(16, activation='relu')(input_scores)\n",
    "hidden = Dense(8, activation='relu')(hidden)\n",
    "\n",
    "# Sorties : w et gamma (avec activation sigmoid pour [0, 1])\n",
    "w = Dense(1, activation='sigmoid', name='w')(hidden)\n",
    "gamma = Dense(1, activation='sigmoid', name='gamma')(hidden)\n",
    "\n",
    "# Modèle\n",
    "model = Model(inputs=input_scores, outputs=[w, gamma])"
   ]
  },
  {
   "cell_type": "code",
   "execution_count": 24,
   "id": "125a64b5-b91e-42b8-b7a3-6b6ed38f6f72",
   "metadata": {},
   "outputs": [],
   "source": [
    "# tvaleur de tabi\n",
    "def tabi_score(X, Y, w, gamma):\n",
    "    # Pearson\n",
    "    r, _ = pearsonr(X, Y)\n",
    "    \n",
    "    # Spearman\n",
    "    rho, _ = spearmanr(X, Y)\n",
    "    \n",
    "    # Distance de corrélation\n",
    "    dcor = distance_correlation(X, Y)\n",
    "    \n",
    "    # Facteur de complexité\n",
    "    C = dcor - max(abs(r), abs(rho))\n",
    "    \n",
    "    # TABI\n",
    "    return w * r + (1 - w) * rho + gamma * C"
   ]
  },
  {
   "cell_type": "code",
   "execution_count": 13,
   "id": "c3694414-9eeb-4290-9eac-2fb709dcc0a0",
   "metadata": {},
   "outputs": [],
   "source": [
    "# optimisation des parametre du model \n",
    "def custom_loss(y_true, y_pred, w, gamma):\n",
    "    # Calculer TABI\n",
    "    tabi_value = tabi_score(y_true, y_pred, w, gamma)\n",
    "    \n",
    "    # Minimiser la perte\n",
    "    return -tabi_value"
   ]
  },
  {
   "cell_type": "code",
   "execution_count": 15,
   "id": "19e97ab3-5a5e-4ce9-9828-4374f89b7f4f",
   "metadata": {},
   "outputs": [],
   "source": [
    "#compilation du model \n",
    "model.compile(optimizer='adam', loss=custom_loss)"
   ]
  }
 ],
 "metadata": {
  "kernelspec": {
   "display_name": "Python 3 (ipykernel)",
   "language": "python",
   "name": "python3"
  },
  "language_info": {
   "codemirror_mode": {
    "name": "ipython",
    "version": 3
   },
   "file_extension": ".py",
   "mimetype": "text/x-python",
   "name": "python",
   "nbconvert_exporter": "python",
   "pygments_lexer": "ipython3",
   "version": "3.11.7"
  }
 },
 "nbformat": 4,
 "nbformat_minor": 5
}
